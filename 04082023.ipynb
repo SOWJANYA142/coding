{
  "nbformat": 4,
  "nbformat_minor": 0,
  "metadata": {
    "colab": {
      "provenance": [],
      "authorship_tag": "ABX9TyOiTXfI7xfPUORhX+LKxbOR"
    },
    "kernelspec": {
      "name": "python3",
      "display_name": "Python 3"
    },
    "language_info": {
      "name": "python"
    }
  },
  "cells": [
    {
      "cell_type": "code",
      "execution_count": 2,
      "metadata": {
        "colab": {
          "base_uri": "https://localhost:8080/"
        },
        "id": "KZSClcxq1UCA",
        "outputId": "1546c52d-ccf0-442b-f1e2-c101e17c4533"
      },
      "outputs": [
        {
          "output_type": "stream",
          "name": "stdout",
          "text": [
            "[1, 2, 3, 4, 0, 0, 0]\n"
          ]
        }
      ],
      "source": [
        "num=[1,0,2,0,3,0,4]\n",
        "n1=[]\n",
        "n2=[]\n",
        "for i in num:\n",
        "  if i==0:\n",
        "     n1.append(i)\n",
        "  else:\n",
        "    n2.append(i)\n",
        "print(n2+n1)\n"
      ]
    },
    {
      "cell_type": "code",
      "source": [
        "n=int(input(\"enter a number\"))\n",
        "if n//2==0:\n",
        "  if n>6 and n<=20:\n",
        "    print(\"wired\")\n",
        "  else:\n",
        "       print(\"not wired\")\n",
        "else:\n",
        "    print(\"wired\")\n",
        ""
      ],
      "metadata": {
        "colab": {
          "base_uri": "https://localhost:8080/"
        },
        "id": "JDv-JBlS11PA",
        "outputId": "39b2303e-7fd8-460c-87f9-03364362ee74"
      },
      "execution_count": 3,
      "outputs": [
        {
          "output_type": "stream",
          "name": "stdout",
          "text": [
            "enter a number22\n",
            "wired\n"
          ]
        }
      ]
    },
    {
      "cell_type": "code",
      "source": [
        "num=[1,0,2,0,3,0,4]\n",
        "n1=[]\n",
        "n2=[]\n",
        "for i in num:\n",
        "    if i==0:\n",
        "      n1.append(i)\n",
        "    else:\n",
        "      n2.append(i)\n",
        "k=len(n2)//2\n",
        "p=n2[ :k]\n",
        "p1=n2[k:]\n",
        "print(p+n1+p1)"
      ],
      "metadata": {
        "colab": {
          "base_uri": "https://localhost:8080/"
        },
        "id": "OG661DgB2PKM",
        "outputId": "cc9e20eb-9bda-43b9-ed7b-fc7e4ba15da3"
      },
      "execution_count": 4,
      "outputs": [
        {
          "output_type": "stream",
          "name": "stdout",
          "text": [
            "[1, 2, 0, 0, 0, 3, 4]\n"
          ]
        }
      ]
    }
  ]
}